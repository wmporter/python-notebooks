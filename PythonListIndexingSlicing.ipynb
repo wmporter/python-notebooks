{
 "cells": [
  {
   "cell_type": "markdown",
   "metadata": {},
   "source": [
    "## Python List Indexing and Slicing"
   ]
  },
  {
   "cell_type": "markdown",
   "metadata": {},
   "source": [
    "### Indexing\n",
    "\n",
    "List indexing gets a particular list value based on its position. An index is specified with square brackets and the index between. Lists are zero-indexed, meaning that indexes are counted starting at 0. Indexes can also be negative, where -1 specifies the last item in the list. An index that is too large or too small will result in an error."
   ]
  },
  {
   "cell_type": "code",
   "execution_count": 9,
   "metadata": {},
   "outputs": [],
   "source": [
    "# Positive indexes\n",
    "#          0    1    2    3    4    5\n",
    "mylist = [403, 100, 656, 920, 150, 888]\n",
    "#         -6   -5   -4   -3   -2   -1\n",
    "# Negative indexes"
   ]
  },
  {
   "cell_type": "code",
   "execution_count": 10,
   "metadata": {},
   "outputs": [
    {
     "name": "stdout",
     "output_type": "stream",
     "text": [
      "4\n"
     ]
    }
   ],
   "source": [
    "# The first item is at index 0\n",
    "print(mylist[0])"
   ]
  },
  {
   "cell_type": "code",
   "execution_count": 11,
   "metadata": {},
   "outputs": [
    {
     "name": "stdout",
     "output_type": "stream",
     "text": [
      "66\n",
      "66\n"
     ]
    }
   ],
   "source": [
    "# The item at index 2 and index -4 are the same\n",
    "print(mylist[2])\n",
    "print(mylist[-4])"
   ]
  },
  {
   "cell_type": "code",
   "execution_count": 12,
   "metadata": {},
   "outputs": [
    {
     "name": "stdout",
     "output_type": "stream",
     "text": [
      "100\n"
     ]
    }
   ],
   "source": [
    "# Index values can be stored in variables\n",
    "index = -5\n",
    "print(mylist[index])"
   ]
  },
  {
   "cell_type": "code",
   "execution_count": 13,
   "metadata": {},
   "outputs": [
    {
     "name": "stdout",
     "output_type": "stream",
     "text": [
      "150\n"
     ]
    }
   ],
   "source": [
    "# Sometimes you might have to calculate the index\n",
    "a = 1\n",
    "b = 3\n",
    "print(mylist[a + b]) # a + b == 4"
   ]
  },
  {
   "cell_type": "markdown",
   "metadata": {},
   "source": [
    "### Slicing\n",
    "\n",
    "Slicing a list creates a new list that contains part of the original.  \n",
    "List slices are specified similar to indexes using square brackets.  \n",
    "Each slice can have a start and stop value, separated by colons.\n",
    "\n",
    "start - The list index where the slice will start. The slice will include the item at this index.  \n",
    "stop  - The list index where the slice will stop. The slice will **_not_** include this index.\n",
    "\n",
    "Why not include the stop index? One reason is that the length of the list can be used as the stop index."
   ]
  },
  {
   "cell_type": "code",
   "execution_count": 18,
   "metadata": {},
   "outputs": [],
   "source": [
    "# Positive indexes\n",
    "#             0    1    2    3    4    5    6    7    8    9\n",
    "slicelist = [543, 905, 120, 345, 252, 112, 799, 104, 500]\n",
    "#      -10   -9   -8   -7   -6   -5   -4   -3   -2   -1 \n",
    "# Negative indexes"
   ]
  },
  {
   "cell_type": "code",
   "execution_count": 19,
   "metadata": {},
   "outputs": [
    {
     "name": "stdout",
     "output_type": "stream",
     "text": [
      "[543, 905, 120]\n"
     ]
    }
   ],
   "source": [
    "# Get the first 3 items from the list\n",
    "print(slicelist[0:3])"
   ]
  },
  {
   "cell_type": "code",
   "execution_count": 20,
   "metadata": {},
   "outputs": [
    {
     "name": "stdout",
     "output_type": "stream",
     "text": [
      "[112, 799, 104, 500]\n"
     ]
    }
   ],
   "source": [
    "# Get the last 4 items from the list\n",
    "print(slicelist[5:9])"
   ]
  },
  {
   "cell_type": "code",
   "execution_count": 21,
   "metadata": {},
   "outputs": [
    {
     "name": "stdout",
     "output_type": "stream",
     "text": [
      "[345, 252, 112]\n"
     ]
    }
   ],
   "source": [
    "# Get 3 items from the middle using negative indexes\n",
    "print(slicelist[-6:-3])"
   ]
  },
  {
   "cell_type": "code",
   "execution_count": 22,
   "metadata": {},
   "outputs": [
    {
     "name": "stdout",
     "output_type": "stream",
     "text": [
      "[543, 905, 120, 345, 252, 112, 799, 104, 500]\n"
     ]
    }
   ],
   "source": [
    "# Make a copy of the whole list\n",
    "print(slicelist[0:len(slicelist)])"
   ]
  },
  {
   "cell_type": "markdown",
   "metadata": {},
   "source": [
    "### Slightly Advanced Slicing\n",
    "\n",
    "When creating a list slice, the start and stop indexes are optional. What happens if they are omitted?\n",
    "\n",
    "start - If start is omitted, it will default to the start of the list  \n",
    "stop - If stop is omitted, it will default to the end of the list\n",
    "\n",
    "Another thing to keep in mind is that start and stop indexes are normalized. When using list slicing, Python will not complain about list indexes being out of range. "
   ]
  },
  {
   "cell_type": "code",
   "execution_count": 8,
   "metadata": {},
   "outputs": [],
   "source": [
    "# Positive indexes\n",
    "#             0    1    2    3    4    5    6    7    8    9\n",
    "slicelist = [543, 905, 120, 345, 252, 112, 799, 104, 500]\n",
    "#      -10   -9   -8   -7   -6   -5   -4   -3   -2   -1 \n",
    "# Negative indexes"
   ]
  },
  {
   "cell_type": "code",
   "execution_count": 24,
   "metadata": {},
   "outputs": [
    {
     "name": "stdout",
     "output_type": "stream",
     "text": [
      "[543, 905, 120]\n"
     ]
    }
   ],
   "source": [
    "# Get the first 3 items from the list by omitting the start\n",
    "print(slicelist[:3])"
   ]
  },
  {
   "cell_type": "code",
   "execution_count": 25,
   "metadata": {},
   "outputs": [
    {
     "name": "stdout",
     "output_type": "stream",
     "text": [
      "[112, 799, 104, 500]\n"
     ]
    }
   ],
   "source": [
    "# Get the last 4 items from the list by omitting the stop\n",
    "print(slicelist[5:])"
   ]
  },
  {
   "cell_type": "code",
   "execution_count": 26,
   "metadata": {},
   "outputs": [
    {
     "name": "stdout",
     "output_type": "stream",
     "text": [
      "[543, 905, 120, 345, 252, 112, 799, 104, 500]\n"
     ]
    }
   ],
   "source": [
    "# Make a copy of the whole list by omitting both\n",
    "print(slicelist[:])"
   ]
  },
  {
   "cell_type": "code",
   "execution_count": 27,
   "metadata": {},
   "outputs": [
    {
     "name": "stdout",
     "output_type": "stream",
     "text": [
      "[112, 799, 104, 500]\n"
     ]
    }
   ],
   "source": [
    "# The stop value is \"normalized\" to the length of the list if it's too big\n",
    "print(slicelist[5:137])"
   ]
  },
  {
   "cell_type": "code",
   "execution_count": 29,
   "metadata": {},
   "outputs": [
    {
     "name": "stdout",
     "output_type": "stream",
     "text": [
      "[543, 905, 120]\n"
     ]
    }
   ],
   "source": [
    "# The start value is \"normalized\" to the beginning of the list if it's too small\n",
    "print(slicelist[-50:3])"
   ]
  },
  {
   "cell_type": "code",
   "execution_count": 30,
   "metadata": {},
   "outputs": [
    {
     "name": "stdout",
     "output_type": "stream",
     "text": [
      "[543, 905, 120, 345, 252, 112, 799, 104, 500]\n"
     ]
    }
   ],
   "source": [
    "# A very weird way to get a copy of the whole list\n",
    "print(slicelist[-999:999])"
   ]
  },
  {
   "cell_type": "markdown",
   "metadata": {},
   "source": [
    "### Slightly More Advanced Slicing\n",
    "\n",
    "In addition to start and stop, you can add a third number to list slices (separated with another colon) called step.\n",
    "\n",
    "step - How many items to \"count by\" when slicing. Defaults to 1. Can be negative.\n",
    "\n",
    "Adding a step value allows you to slice every other element from the list, for instance. All the same rules still apply. The slicing stops when the index of the next item is equal to (or more than) the stop value."
   ]
  },
  {
   "cell_type": "code",
   "execution_count": 7,
   "metadata": {},
   "outputs": [],
   "source": [
    "# Positive indexes\n",
    "#             0    1    2    3    4    5    6    7    8    9\n",
    "slicelist = [543, 905, 120, 345, 252, 112, 799, 104, 500]\n",
    "#      -10   -9   -8   -7   -6   -5   -4   -3   -2   -1 \n",
    "# Negative indexes"
   ]
  },
  {
   "cell_type": "code",
   "execution_count": 31,
   "metadata": {},
   "outputs": [
    {
     "name": "stdout",
     "output_type": "stream",
     "text": [
      "[543, 120, 252]\n"
     ]
    }
   ],
   "source": [
    "# Get every other item before item 5\n",
    "print(slicelist[0:5:2])"
   ]
  },
  {
   "cell_type": "code",
   "execution_count": 32,
   "metadata": {},
   "outputs": [
    {
     "name": "stdout",
     "output_type": "stream",
     "text": [
      "[905, 252, 104]\n"
     ]
    }
   ],
   "source": [
    "# Get every third item, starting at 1\n",
    "print(slicelist[1::3])"
   ]
  },
  {
   "cell_type": "code",
   "execution_count": 34,
   "metadata": {},
   "outputs": [
    {
     "name": "stdout",
     "output_type": "stream",
     "text": [
      "[543]\n"
     ]
    }
   ],
   "source": [
    "# What happens if we get every 50th item?\n",
    "print(slicelist[::50])"
   ]
  },
  {
   "cell_type": "markdown",
   "metadata": {},
   "source": [
    "### Extremely Advanced Slicing\n",
    "\n",
    "In the Slightly More Advanced Slicing section, it's mentioned that step values can be negative. What does that mean?\n",
    "\n",
    "A negative step value means that the list items are sliced from the right side of the list instead of the left. However, the new list that gets created is still built from left to right, which results in the new list having items in reverse order from the original.\n",
    "\n",
    "Another thing this means is that the \"end\" indexes for start and stop are swapped. Instead of index 0 being the default for start, it's the last item of the list. Likewise, the default stop instead of 1 past the last item of the list is 1 before the first item."
   ]
  },
  {
   "cell_type": "code",
   "execution_count": 1,
   "metadata": {},
   "outputs": [],
   "source": [
    "# Positive indexes\n",
    "#             0    1    2    3    4    5    6    7    8    9\n",
    "slicelist = [543, 905, 120, 345, 252, 112, 799, 104, 500]\n",
    "#      -10   -9   -8   -7   -6   -5   -4   -3   -2   -1 \n",
    "# Negative indexes"
   ]
  },
  {
   "cell_type": "code",
   "execution_count": 2,
   "metadata": {},
   "outputs": [
    {
     "name": "stdout",
     "output_type": "stream",
     "text": [
      "[500, 104, 799]\n"
     ]
    }
   ],
   "source": [
    "# Get the last 3 values of the list in reverse order\n",
    "print(slicelist[8:5:-1])"
   ]
  },
  {
   "cell_type": "code",
   "execution_count": 4,
   "metadata": {},
   "outputs": [
    {
     "name": "stdout",
     "output_type": "stream",
     "text": [
      "[799, 252, 120]\n"
     ]
    }
   ],
   "source": [
    "# Every other item from the list from index 6 to 1, in reverse\n",
    "print(slicelist[6:1:-2])"
   ]
  },
  {
   "cell_type": "code",
   "execution_count": 5,
   "metadata": {},
   "outputs": [
    {
     "name": "stdout",
     "output_type": "stream",
     "text": [
      "[500, 104, 799, 112]\n"
     ]
    }
   ],
   "source": [
    "# Without specifying a start, it starts at the end\n",
    "print(slicelist[:4:-1])"
   ]
  },
  {
   "cell_type": "code",
   "execution_count": 6,
   "metadata": {},
   "outputs": [
    {
     "name": "stdout",
     "output_type": "stream",
     "text": [
      "[345, 120, 905, 543]\n"
     ]
    }
   ],
   "source": [
    "# Without a stop, it slices all the way to the beginning\n",
    "print(slicelist[3::-1])"
   ]
  },
  {
   "cell_type": "code",
   "execution_count": 37,
   "metadata": {},
   "outputs": [
    {
     "name": "stdout",
     "output_type": "stream",
     "text": [
      "[500, 104, 799, 112, 252, 345, 120, 905, 543]\n"
     ]
    }
   ],
   "source": [
    "# Get the entire list, but reversed\n",
    "print(slicelist[::-1])"
   ]
  }
 ],
 "metadata": {
  "kernelspec": {
   "display_name": "Python 3",
   "language": "python",
   "name": "python3"
  },
  "language_info": {
   "codemirror_mode": {
    "name": "ipython",
    "version": 3
   },
   "file_extension": ".py",
   "mimetype": "text/x-python",
   "name": "python",
   "nbconvert_exporter": "python",
   "pygments_lexer": "ipython3",
   "version": "3.7.4"
  }
 },
 "nbformat": 4,
 "nbformat_minor": 2
}
