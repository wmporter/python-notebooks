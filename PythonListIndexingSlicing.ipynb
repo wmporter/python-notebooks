{
 "cells": [
  {
   "cell_type": "markdown",
   "metadata": {},
   "source": [
    "## Python List Indexing and Slicing"
   ]
  },
  {
   "cell_type": "markdown",
   "metadata": {},
   "source": [
    "### Indexing\n",
    "\n",
    "List indexing gets a particular list value based on its position. An index is specified with square brackets and the index between. Lists are zero-indexed, meaning that indexes are counted starting at 0. Indexes can also be negative, where -1 specifies the last item in the list. An index that is too large or too small will result in an error.\n",
    "\n",
    "```\n",
    "     0   1   2   3   4   5   6\n",
    "   [ 4,  1,  6,  9,  5,  8 ]\n",
    "-7  -6  -5  -4  -3  -2  -1\n",
    "```"
   ]
  },
  {
   "cell_type": "code",
   "execution_count": 9,
   "metadata": {},
   "outputs": [],
   "source": [
    "# Positive indexes\n",
    "#          0    1    2    3    4    5\n",
    "mylist = [403, 100, 656, 920, 150, 888]\n",
    "#         -6   -5   -4   -3   -2   -1\n",
    "# Negative indexes"
   ]
  },
  {
   "cell_type": "code",
   "execution_count": 10,
   "metadata": {},
   "outputs": [
    {
     "name": "stdout",
     "output_type": "stream",
     "text": [
      "4\n"
     ]
    }
   ],
   "source": [
    "# The first item is at index 0\n",
    "print(mylist[0])"
   ]
  },
  {
   "cell_type": "code",
   "execution_count": 11,
   "metadata": {},
   "outputs": [
    {
     "name": "stdout",
     "output_type": "stream",
     "text": [
      "66\n",
      "66\n"
     ]
    }
   ],
   "source": [
    "# The item at index 2 and index -4 are the same\n",
    "print(mylist[2])\n",
    "print(mylist[-4])"
   ]
  },
  {
   "cell_type": "code",
   "execution_count": 12,
   "metadata": {},
   "outputs": [
    {
     "name": "stdout",
     "output_type": "stream",
     "text": [
      "100\n"
     ]
    }
   ],
   "source": [
    "# Index values can be stored in variables\n",
    "index = -5\n",
    "print(mylist[index])"
   ]
  },
  {
   "cell_type": "code",
   "execution_count": 13,
   "metadata": {},
   "outputs": [
    {
     "name": "stdout",
     "output_type": "stream",
     "text": [
      "150\n"
     ]
    }
   ],
   "source": [
    "# Sometimes you might have to calculate the index\n",
    "a = 1\n",
    "b = 3\n",
    "print(mylist[a + b]) # a + b == 4"
   ]
  },
  {
   "cell_type": "markdown",
   "metadata": {},
   "source": [
    "### Slicing\n",
    "\n",
    "Slicing a list creates a new list that contains part of the original. List slices are specified similar to indexes using square brackets. Each slice can have a start and stop value, separated by colons.\n",
    "\n",
    "start - The list index where the slice will start. The slice will include this index.  \n",
    "stop  - The list index where the slice will stop. The slice will **_not_** include this index.\n",
    "\n",
    "Why not include the stop value? One reason is that the length of the list can be used as the stop value."
   ]
  },
  {
   "cell_type": "code",
   "execution_count": 18,
   "metadata": {},
   "outputs": [],
   "source": [
    "# Positive indexes\n",
    "#             0    1    2    3    4    5    6    7    8    9\n",
    "slicelist = [543, 905, 120, 345, 252, 112, 799, 104, 500]\n",
    "#      -10   -9   -8   -7   -6   -5   -4   -3   -2   -1 \n",
    "# Negative indexes"
   ]
  },
  {
   "cell_type": "code",
   "execution_count": 19,
   "metadata": {},
   "outputs": [
    {
     "name": "stdout",
     "output_type": "stream",
     "text": [
      "[543, 905, 120]\n"
     ]
    }
   ],
   "source": [
    "# Get the first 3 items from the list\n",
    "print(slicelist[0:3])"
   ]
  },
  {
   "cell_type": "code",
   "execution_count": 20,
   "metadata": {},
   "outputs": [
    {
     "name": "stdout",
     "output_type": "stream",
     "text": [
      "[112, 799, 104, 500]\n"
     ]
    }
   ],
   "source": [
    "# Get the last 4 items from the list\n",
    "print(slicelist[5:9])"
   ]
  },
  {
   "cell_type": "code",
   "execution_count": 21,
   "metadata": {},
   "outputs": [
    {
     "name": "stdout",
     "output_type": "stream",
     "text": [
      "[345, 252, 112]\n"
     ]
    }
   ],
   "source": [
    "# Get 3 items from the middle using negative indexes\n",
    "print(slicelist[-6:-3])"
   ]
  },
  {
   "cell_type": "code",
   "execution_count": 22,
   "metadata": {},
   "outputs": [
    {
     "name": "stdout",
     "output_type": "stream",
     "text": [
      "[543, 905, 120, 345, 252, 112, 799, 104, 500]\n"
     ]
    }
   ],
   "source": [
    "# Make a copy of the whole list\n",
    "print(slicelist[0:len(slicelist)])"
   ]
  },
  {
   "cell_type": "markdown",
   "metadata": {},
   "source": [
    "### Slightly Advanced Slicing\n",
    "\n",
    "When creating a list slice, the start and stop values are optional. What happens if they are omitted?\n",
    "\n",
    "start - If start is omitted, it will default to the start of the list\n",
    "stop - If stop is omitted, it will default to the end of the list\n",
    "\n",
    "Another thing to keep in mind is that "
   ]
  }
 ],
 "metadata": {
  "kernelspec": {
   "display_name": "Python 3",
   "language": "python",
   "name": "python3"
  },
  "language_info": {
   "codemirror_mode": {
    "name": "ipython",
    "version": 3
   },
   "file_extension": ".py",
   "mimetype": "text/x-python",
   "name": "python",
   "nbconvert_exporter": "python",
   "pygments_lexer": "ipython3",
   "version": "3.7.4"
  }
 },
 "nbformat": 4,
 "nbformat_minor": 2
}
